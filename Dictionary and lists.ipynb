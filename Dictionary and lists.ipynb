{
 "cells": [
  {
   "cell_type": "code",
   "execution_count": 1,
   "id": "70a21786",
   "metadata": {},
   "outputs": [],
   "source": [
    "import pandas as pd"
   ]
  },
  {
   "cell_type": "code",
   "execution_count": 2,
   "id": "ab1a905f",
   "metadata": {},
   "outputs": [],
   "source": [
    "data=pd.read_csv(\"Deutschland_Cities.csv\")"
   ]
  },
  {
   "cell_type": "code",
   "execution_count": 3,
   "id": "7d41989e",
   "metadata": {},
   "outputs": [
    {
     "data": {
      "text/html": [
       "<div>\n",
       "<style scoped>\n",
       "    .dataframe tbody tr th:only-of-type {\n",
       "        vertical-align: middle;\n",
       "    }\n",
       "\n",
       "    .dataframe tbody tr th {\n",
       "        vertical-align: top;\n",
       "    }\n",
       "\n",
       "    .dataframe thead th {\n",
       "        text-align: right;\n",
       "    }\n",
       "</style>\n",
       "<table border=\"1\" class=\"dataframe\">\n",
       "  <thead>\n",
       "    <tr style=\"text-align: right;\">\n",
       "      <th></th>\n",
       "      <th>city</th>\n",
       "      <th>lat</th>\n",
       "      <th>lng</th>\n",
       "      <th>country</th>\n",
       "      <th>iso2</th>\n",
       "      <th>admin_name</th>\n",
       "      <th>capital</th>\n",
       "      <th>population</th>\n",
       "      <th>population_proper</th>\n",
       "    </tr>\n",
       "  </thead>\n",
       "  <tbody>\n",
       "    <tr>\n",
       "      <th>0</th>\n",
       "      <td>Berlin</td>\n",
       "      <td>52.5167</td>\n",
       "      <td>13.3833</td>\n",
       "      <td>Germany</td>\n",
       "      <td>DE</td>\n",
       "      <td>Berlin</td>\n",
       "      <td>primary</td>\n",
       "      <td>3644826.0</td>\n",
       "      <td>3644826.0</td>\n",
       "    </tr>\n",
       "    <tr>\n",
       "      <th>1</th>\n",
       "      <td>Hamburg</td>\n",
       "      <td>53.5500</td>\n",
       "      <td>10.0000</td>\n",
       "      <td>Germany</td>\n",
       "      <td>DE</td>\n",
       "      <td>Hamburg</td>\n",
       "      <td>admin</td>\n",
       "      <td>1841179.0</td>\n",
       "      <td>1841179.0</td>\n",
       "    </tr>\n",
       "    <tr>\n",
       "      <th>2</th>\n",
       "      <td>Munich</td>\n",
       "      <td>48.1372</td>\n",
       "      <td>11.5755</td>\n",
       "      <td>Germany</td>\n",
       "      <td>DE</td>\n",
       "      <td>Bavaria</td>\n",
       "      <td>admin</td>\n",
       "      <td>1471508.0</td>\n",
       "      <td>1471508.0</td>\n",
       "    </tr>\n",
       "    <tr>\n",
       "      <th>3</th>\n",
       "      <td>Cologne</td>\n",
       "      <td>50.9422</td>\n",
       "      <td>6.9578</td>\n",
       "      <td>Germany</td>\n",
       "      <td>DE</td>\n",
       "      <td>North Rhine-Westphalia</td>\n",
       "      <td>NaN</td>\n",
       "      <td>1085664.0</td>\n",
       "      <td>1085664.0</td>\n",
       "    </tr>\n",
       "    <tr>\n",
       "      <th>4</th>\n",
       "      <td>Frankfurt</td>\n",
       "      <td>50.1136</td>\n",
       "      <td>8.6797</td>\n",
       "      <td>Germany</td>\n",
       "      <td>DE</td>\n",
       "      <td>Hesse</td>\n",
       "      <td>minor</td>\n",
       "      <td>753056.0</td>\n",
       "      <td>753056.0</td>\n",
       "    </tr>\n",
       "    <tr>\n",
       "      <th>...</th>\n",
       "      <td>...</td>\n",
       "      <td>...</td>\n",
       "      <td>...</td>\n",
       "      <td>...</td>\n",
       "      <td>...</td>\n",
       "      <td>...</td>\n",
       "      <td>...</td>\n",
       "      <td>...</td>\n",
       "      <td>...</td>\n",
       "    </tr>\n",
       "    <tr>\n",
       "      <th>607</th>\n",
       "      <td>Rotenburg</td>\n",
       "      <td>53.0851</td>\n",
       "      <td>9.3879</td>\n",
       "      <td>Germany</td>\n",
       "      <td>DE</td>\n",
       "      <td>Lower Saxony</td>\n",
       "      <td>minor</td>\n",
       "      <td>NaN</td>\n",
       "      <td>NaN</td>\n",
       "    </tr>\n",
       "    <tr>\n",
       "      <th>608</th>\n",
       "      <td>Karlstadt</td>\n",
       "      <td>49.9603</td>\n",
       "      <td>9.7724</td>\n",
       "      <td>Germany</td>\n",
       "      <td>DE</td>\n",
       "      <td>Bavaria</td>\n",
       "      <td>minor</td>\n",
       "      <td>NaN</td>\n",
       "      <td>NaN</td>\n",
       "    </tr>\n",
       "    <tr>\n",
       "      <th>609</th>\n",
       "      <td>Neustadt</td>\n",
       "      <td>49.5656</td>\n",
       "      <td>8.8437</td>\n",
       "      <td>Germany</td>\n",
       "      <td>DE</td>\n",
       "      <td>Hesse</td>\n",
       "      <td>minor</td>\n",
       "      <td>NaN</td>\n",
       "      <td>NaN</td>\n",
       "    </tr>\n",
       "    <tr>\n",
       "      <th>610</th>\n",
       "      <td>Homberg</td>\n",
       "      <td>51.0299</td>\n",
       "      <td>9.4026</td>\n",
       "      <td>Germany</td>\n",
       "      <td>DE</td>\n",
       "      <td>Hesse</td>\n",
       "      <td>minor</td>\n",
       "      <td>NaN</td>\n",
       "      <td>NaN</td>\n",
       "    </tr>\n",
       "    <tr>\n",
       "      <th>611</th>\n",
       "      <td>Garmisch-Partenkirchen</td>\n",
       "      <td>47.4985</td>\n",
       "      <td>11.1044</td>\n",
       "      <td>Germany</td>\n",
       "      <td>DE</td>\n",
       "      <td>Bavaria</td>\n",
       "      <td>minor</td>\n",
       "      <td>NaN</td>\n",
       "      <td>NaN</td>\n",
       "    </tr>\n",
       "  </tbody>\n",
       "</table>\n",
       "<p>612 rows × 9 columns</p>\n",
       "</div>"
      ],
      "text/plain": [
       "                       city      lat      lng  country iso2  \\\n",
       "0                    Berlin  52.5167  13.3833  Germany   DE   \n",
       "1                   Hamburg  53.5500  10.0000  Germany   DE   \n",
       "2                    Munich  48.1372  11.5755  Germany   DE   \n",
       "3                   Cologne  50.9422   6.9578  Germany   DE   \n",
       "4                 Frankfurt  50.1136   8.6797  Germany   DE   \n",
       "..                      ...      ...      ...      ...  ...   \n",
       "607               Rotenburg  53.0851   9.3879  Germany   DE   \n",
       "608               Karlstadt  49.9603   9.7724  Germany   DE   \n",
       "609                Neustadt  49.5656   8.8437  Germany   DE   \n",
       "610                 Homberg  51.0299   9.4026  Germany   DE   \n",
       "611  Garmisch-Partenkirchen  47.4985  11.1044  Germany   DE   \n",
       "\n",
       "                 admin_name  capital  population  population_proper  \n",
       "0                    Berlin  primary   3644826.0          3644826.0  \n",
       "1                   Hamburg    admin   1841179.0          1841179.0  \n",
       "2                   Bavaria    admin   1471508.0          1471508.0  \n",
       "3    North Rhine-Westphalia      NaN   1085664.0          1085664.0  \n",
       "4                     Hesse    minor    753056.0           753056.0  \n",
       "..                      ...      ...         ...                ...  \n",
       "607            Lower Saxony    minor         NaN                NaN  \n",
       "608                 Bavaria    minor         NaN                NaN  \n",
       "609                   Hesse    minor         NaN                NaN  \n",
       "610                   Hesse    minor         NaN                NaN  \n",
       "611                 Bavaria    minor         NaN                NaN  \n",
       "\n",
       "[612 rows x 9 columns]"
      ]
     },
     "execution_count": 3,
     "metadata": {},
     "output_type": "execute_result"
    }
   ],
   "source": [
    "data"
   ]
  },
  {
   "cell_type": "code",
   "execution_count": 4,
   "id": "cfd62fd3",
   "metadata": {},
   "outputs": [],
   "source": [
    "capital=[\"Primary\",\"Admin\",\"Minor\"]\n",
    "cities=[\"Berlin\",\"Hamburg\",\"Hesse\"]"
   ]
  },
  {
   "cell_type": "code",
   "execution_count": 5,
   "id": "1524cd66",
   "metadata": {},
   "outputs": [],
   "source": [
    "admin_name={\"Primary\":\"Berlin\",\"Admin\":\"Hamburg\",\"Minor\":\"Hesse\"}"
   ]
  },
  {
   "cell_type": "code",
   "execution_count": 6,
   "id": "68b3708b",
   "metadata": {},
   "outputs": [
    {
     "name": "stdout",
     "output_type": "stream",
     "text": [
      "{'Primary': 'Berlin', 'Admin': 'Hamburg', 'Minor': 'Hesse'}\n"
     ]
    }
   ],
   "source": [
    "print(admin_name)"
   ]
  },
  {
   "cell_type": "code",
   "execution_count": 7,
   "id": "ada07849",
   "metadata": {},
   "outputs": [
    {
     "name": "stdout",
     "output_type": "stream",
     "text": [
      "dict_keys(['Primary', 'Admin', 'Minor'])\n"
     ]
    }
   ],
   "source": [
    "print(admin_name.keys())"
   ]
  },
  {
   "cell_type": "code",
   "execution_count": 8,
   "id": "5652ee4c",
   "metadata": {},
   "outputs": [
    {
     "name": "stdout",
     "output_type": "stream",
     "text": [
      "Hesse\n"
     ]
    }
   ],
   "source": [
    "print(admin_name[\"Minor\"])"
   ]
  },
  {
   "cell_type": "code",
   "execution_count": 9,
   "id": "87f1bb82",
   "metadata": {},
   "outputs": [],
   "source": [
    "admin_name[\"NaN\"]=\"North Rhine-Westphalia\""
   ]
  },
  {
   "cell_type": "code",
   "execution_count": 10,
   "id": "8335bb58",
   "metadata": {},
   "outputs": [
    {
     "name": "stdout",
     "output_type": "stream",
     "text": [
      "True\n"
     ]
    }
   ],
   "source": [
    "print(\"NaN\" in admin_name)"
   ]
  },
  {
   "cell_type": "code",
   "execution_count": 11,
   "id": "545e35c6",
   "metadata": {},
   "outputs": [
    {
     "name": "stdout",
     "output_type": "stream",
     "text": [
      "{'Primary': 'Berlin', 'Admin': 'Hamburg', 'Minor': 'Hesse', 'NaN': 'North Rhine-Westphalia'}\n"
     ]
    }
   ],
   "source": [
    "print(admin_name)"
   ]
  },
  {
   "cell_type": "code",
   "execution_count": 12,
   "id": "b63c1a4f",
   "metadata": {},
   "outputs": [],
   "source": [
    "my_dict={\"capital\":[\"Primary\",\"Admin\"],\"city\":[\"Berlin\",\"Hamburg\"]}"
   ]
  },
  {
   "cell_type": "code",
   "execution_count": 13,
   "id": "dc46cbf4",
   "metadata": {},
   "outputs": [],
   "source": [
    "GermanCities=pd.DataFrame(my_dict)"
   ]
  },
  {
   "cell_type": "code",
   "execution_count": 14,
   "id": "dd9abf7d",
   "metadata": {},
   "outputs": [
    {
     "name": "stdout",
     "output_type": "stream",
     "text": [
      "   capital     city\n",
      "0  Primary   Berlin\n",
      "1    Admin  Hamburg\n"
     ]
    }
   ],
   "source": [
    "print(GermanCities)"
   ]
  },
  {
   "cell_type": "code",
   "execution_count": 15,
   "id": "1a41fd66",
   "metadata": {},
   "outputs": [
    {
     "name": "stdout",
     "output_type": "stream",
     "text": [
      "                            lat      lng  country iso2  \\\n",
      "city                                                     \n",
      "Berlin                  52.5167  13.3833  Germany   DE   \n",
      "Hamburg                 53.5500  10.0000  Germany   DE   \n",
      "Munich                  48.1372  11.5755  Germany   DE   \n",
      "Cologne                 50.9422   6.9578  Germany   DE   \n",
      "Frankfurt               50.1136   8.6797  Germany   DE   \n",
      "...                         ...      ...      ...  ...   \n",
      "Rotenburg               53.0851   9.3879  Germany   DE   \n",
      "Karlstadt               49.9603   9.7724  Germany   DE   \n",
      "Neustadt                49.5656   8.8437  Germany   DE   \n",
      "Homberg                 51.0299   9.4026  Germany   DE   \n",
      "Garmisch-Partenkirchen  47.4985  11.1044  Germany   DE   \n",
      "\n",
      "                                    admin_name  capital  population  \\\n",
      "city                                                                  \n",
      "Berlin                                  Berlin  primary   3644826.0   \n",
      "Hamburg                                Hamburg    admin   1841179.0   \n",
      "Munich                                 Bavaria    admin   1471508.0   \n",
      "Cologne                 North Rhine-Westphalia      NaN   1085664.0   \n",
      "Frankfurt                                Hesse    minor    753056.0   \n",
      "...                                        ...      ...         ...   \n",
      "Rotenburg                         Lower Saxony    minor         NaN   \n",
      "Karlstadt                              Bavaria    minor         NaN   \n",
      "Neustadt                                 Hesse    minor         NaN   \n",
      "Homberg                                  Hesse    minor         NaN   \n",
      "Garmisch-Partenkirchen                 Bavaria    minor         NaN   \n",
      "\n",
      "                        population_proper  \n",
      "city                                       \n",
      "Berlin                          3644826.0  \n",
      "Hamburg                         1841179.0  \n",
      "Munich                          1471508.0  \n",
      "Cologne                         1085664.0  \n",
      "Frankfurt                        753056.0  \n",
      "...                                   ...  \n",
      "Rotenburg                             NaN  \n",
      "Karlstadt                             NaN  \n",
      "Neustadt                              NaN  \n",
      "Homberg                               NaN  \n",
      "Garmisch-Partenkirchen                NaN  \n",
      "\n",
      "[612 rows x 8 columns]\n"
     ]
    }
   ],
   "source": [
    "import pandas as pd\n",
    "data=pd.read_csv(\"Deutschland_Cities.csv\",index_col=0)\n",
    "print(data)"
   ]
  },
  {
   "cell_type": "code",
   "execution_count": 16,
   "id": "efee410d",
   "metadata": {},
   "outputs": [
    {
     "name": "stdout",
     "output_type": "stream",
     "text": [
      "lat                    52.5167\n",
      "lng                    13.3833\n",
      "country                Germany\n",
      "iso2                        DE\n",
      "admin_name              Berlin\n",
      "capital                primary\n",
      "population           3644826.0\n",
      "population_proper    3644826.0\n",
      "Name: Berlin, dtype: object\n"
     ]
    }
   ],
   "source": [
    "print(data.loc[\"Berlin\"])"
   ]
  },
  {
   "cell_type": "code",
   "execution_count": 17,
   "id": "8493932d",
   "metadata": {},
   "outputs": [
    {
     "name": "stdout",
     "output_type": "stream",
     "text": [
      "city\n",
      "Berlin                    13.3833\n",
      "Hamburg                   10.0000\n",
      "Munich                    11.5755\n",
      "Cologne                    6.9578\n",
      "Frankfurt                  8.6797\n",
      "                           ...   \n",
      "Rotenburg                  9.3879\n",
      "Karlstadt                  9.7724\n",
      "Neustadt                   8.8437\n",
      "Homberg                    9.4026\n",
      "Garmisch-Partenkirchen    11.1044\n",
      "Name: lng, Length: 612, dtype: float64\n"
     ]
    }
   ],
   "source": [
    "print(data.iloc[:,1])"
   ]
  },
  {
   "cell_type": "code",
   "execution_count": 18,
   "id": "a1b50cd0",
   "metadata": {},
   "outputs": [
    {
     "name": "stdout",
     "output_type": "stream",
     "text": [
      "city\n",
      "Berlin                    DE\n",
      "Hamburg                   DE\n",
      "Munich                    DE\n",
      "Cologne                   DE\n",
      "Frankfurt                 DE\n",
      "                          ..\n",
      "Rotenburg                 DE\n",
      "Karlstadt                 DE\n",
      "Neustadt                  DE\n",
      "Homberg                   DE\n",
      "Garmisch-Partenkirchen    DE\n",
      "Name: iso2, Length: 612, dtype: object\n"
     ]
    }
   ],
   "source": [
    "print(data.iloc[:,3])"
   ]
  },
  {
   "cell_type": "code",
   "execution_count": null,
   "id": "3fd2ae3b",
   "metadata": {},
   "outputs": [],
   "source": []
  }
 ],
 "metadata": {
  "kernelspec": {
   "display_name": "Python 3",
   "language": "python",
   "name": "python3"
  },
  "language_info": {
   "codemirror_mode": {
    "name": "ipython",
    "version": 3
   },
   "file_extension": ".py",
   "mimetype": "text/x-python",
   "name": "python",
   "nbconvert_exporter": "python",
   "pygments_lexer": "ipython3",
   "version": "3.8.8"
  }
 },
 "nbformat": 4,
 "nbformat_minor": 5
}
